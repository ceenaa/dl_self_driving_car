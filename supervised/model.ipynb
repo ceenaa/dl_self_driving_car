{
 "cells": [
  {
   "cell_type": "code",
   "id": "initial_id",
   "metadata": {
    "collapsed": true,
    "ExecuteTime": {
     "end_time": "2024-08-21T07:18:28.575270Z",
     "start_time": "2024-08-21T07:18:27.449064Z"
    }
   },
   "source": [
    "import torch\n",
    "import torch.nn as nn"
   ],
   "outputs": [],
   "execution_count": 1
  },
  {
   "cell_type": "code",
   "id": "480671b1b6001c34",
   "metadata": {
    "ExecuteTime": {
     "end_time": "2024-08-21T07:18:30.468615Z",
     "start_time": "2024-08-21T07:18:28.585919Z"
    }
   },
   "source": [
    "from torchvision import transforms\n",
    "from torchvision.datasets import ImageFolder\n",
    "\n",
    "#train and test data directory\n",
    "train_dir = './images'\n",
    "\n",
    "# load the train and test data\n",
    "\n",
    "\n",
    "# also make 1 grayscale\n",
    "\n",
    "dataset = ImageFolder(train_dir,transform = transforms.Compose([\n",
    "    transforms.Grayscale()\n",
    "    ,transforms.ToTensor()\n",
    "]))"
   ],
   "outputs": [],
   "execution_count": 2
  },
  {
   "cell_type": "code",
   "id": "0b4180a8",
   "metadata": {
    "ExecuteTime": {
     "end_time": "2024-08-21T07:18:30.511811Z",
     "start_time": "2024-08-21T07:18:30.508446Z"
    }
   },
   "source": [
    "dataset.classes"
   ],
   "outputs": [
    {
     "data": {
      "text/plain": [
       "['-15', '-30', '-60', '0', '15', '30', '60']"
      ]
     },
     "execution_count": 3,
     "metadata": {},
     "output_type": "execute_result"
    }
   ],
   "execution_count": 3
  },
  {
   "metadata": {},
   "cell_type": "code",
   "outputs": [],
   "execution_count": null,
   "source": [
    "# check balance of the dataset\n",
    "\n"
   ],
   "id": "dc02c7e7ab9d3b82"
  },
  {
   "cell_type": "code",
   "id": "2009575464a7b777",
   "metadata": {
    "ExecuteTime": {
     "end_time": "2024-08-16T09:56:33.104325Z",
     "start_time": "2024-08-16T09:56:32.785203Z"
    }
   },
   "source": [
    "# show first image using matplotlib\n",
    "\n",
    "import matplotlib.pyplot as plt\n",
    "\n",
    "image, label = dataset[320]\n",
    "print(image.shape,label)\n",
    "plt.imshow(image.permute(1,2,0), cmap='gray')\n"
   ],
   "outputs": [
    {
     "name": "stdout",
     "output_type": "stream",
     "text": [
      "torch.Size([1, 50, 125]) 0\n"
     ]
    },
    {
     "data": {
      "text/plain": [
       "<matplotlib.image.AxesImage at 0x7be6a219b9e0>"
      ]
     },
     "execution_count": 4,
     "metadata": {},
     "output_type": "execute_result"
    },
    {
     "data": {
      "text/plain": [
       "<Figure size 640x480 with 1 Axes>"
      ],
      "image/png": "[encoded data removed]"
     },
     "metadata": {},
     "output_type": "display_data"
    }
   ],
   "execution_count": 4
  },
  {
   "metadata": {
    "ExecuteTime": {
     "end_time": "2024-08-16T09:56:39.230708Z",
     "start_time": "2024-08-16T09:56:39.227789Z"
    }
   },
   "cell_type": "code",
   "source": "dataset",
   "id": "8c66e93395a73b92",
   "outputs": [
    {
     "data": {
      "text/plain": [
       "Dataset ImageFolder\n",
       "    Number of datapoints: 5366\n",
       "    Root location: ./images\n",
       "    StandardTransform\n",
       "Transform: Compose(\n",
       "               Grayscale(num_output_channels=1)\n",
       "               ToTensor()\n",
       "           )"
      ]
     },
     "execution_count": 5,
     "metadata": {},
     "output_type": "execute_result"
    }
   ],
   "execution_count": 5
  },
  {
   "cell_type": "code",
   "execution_count": 34,
   "id": "3711244071af2b74",
   "metadata": {
    "ExecuteTime": {
     "end_time": "2024-08-15T17:27:24.668954Z",
     "start_time": "2024-08-15T17:27:24.665606Z"
    }
   },
   "outputs": [],
   "source": [
    "class CNN(nn.Module):\n",
    "    def __init__(self, n_actions):\n",
    "        super(CNN, self).__init__()\n",
    "\n",
    "        # CNN layers\n",
    "        self.conv1 = nn.Conv2d(in_channels=1, out_channels=64, kernel_size=5, stride=3)\n",
    "        self.dropout1 = nn.Dropout2d(0.25)\n",
    "        self.conv2 = nn.Conv2d(in_channels=64, out_channels=1, kernel_size=3, stride=2)\n",
    "\n",
    "        # Calculate the size after convolutional layers\n",
    "\n",
    "        # Fully connected layers\n",
    "        self.fc1 = nn.Linear(140, 64)\n",
    "        self.fc2 = nn.Linear(64, n_actions)\n",
    "\n",
    "    def forward(self, x):\n",
    "        x = torch.relu(self.conv1(x))\n",
    "        x = self.dropout1(x)\n",
    "        x = torch.relu(self.conv2(x))\n",
    "\n",
    "        x = x.view(x.size(0), -1)  # Flatten\n",
    "        x = torch.relu(self.fc1(x))\n",
    "        return self.fc2(x)"
   ]
  },
  {
   "cell_type": "code",
   "execution_count": 35,
   "id": "1348d58d74cb06de",
   "metadata": {
    "ExecuteTime": {
     "end_time": "2024-08-15T17:27:24.672725Z",
     "start_time": "2024-08-15T17:27:24.670016Z"
    }
   },
   "outputs": [],
   "source": [
    "# Example usage:\n",
    "\n",
    "device = torch.device('cuda' if torch.cuda.is_available() else 'cpu') \n",
    "model = CNN(n_actions=7).to(device)\n"
   ]
  },
  {
   "cell_type": "code",
   "execution_count": 36,
   "id": "39dd64d20efdc397",
   "metadata": {
    "ExecuteTime": {
     "end_time": "2024-08-15T17:27:24.675639Z",
     "start_time": "2024-08-15T17:27:24.673399Z"
    }
   },
   "outputs": [],
   "source": [
    "import torch.optim as optim\n",
    "\n",
    "# Loss and optimizer\n",
    "criterion = nn.CrossEntropyLoss()\n",
    "optimizer = optim.Adam(model.parameters(), lr=0.0001)\n"
   ]
  },
  {
   "cell_type": "code",
   "execution_count": 37,
   "id": "cded66c01d1339e1",
   "metadata": {
    "ExecuteTime": {
     "end_time": "2024-08-15T17:27:26.082248Z",
     "start_time": "2024-08-15T17:27:26.079850Z"
    }
   },
   "outputs": [],
   "source": [
    "# Data loader\n",
    "from torch.utils.data import DataLoader\n",
    "\n",
    "train_loader = DataLoader(dataset, batch_size=64)\n"
   ]
  },
  {
   "cell_type": "code",
   "execution_count": 38,
   "id": "1d93224c1fce1a18",
   "metadata": {
    "ExecuteTime": {
     "end_time": "2024-08-15T17:28:13.696710Z",
     "start_time": "2024-08-15T17:27:30.074128Z"
    }
   },
   "outputs": [
    {
     "name": "stdout",
     "output_type": "stream",
     "text": [
      "Epoch [10/1000], Loss: 3.1129\n",
      "Epoch [20/1000], Loss: 2.7422\n"
     ]
    }
   ],
   "source": [
    "from torch.autograd import Variable\n",
    "# Train the model\n",
    "\n",
    "num_epochs = 1000\n",
    "total_step = len(train_loader)\n",
    "\n",
    "\n",
    "for epoch in range(num_epochs):\n",
    "    for i, (images, labels) in enumerate(train_loader):\n",
    "        images = images.to(device)\n",
    "        labels = labels.to(device)\n",
    "        \n",
    "        # Forward pass\n",
    "        outputs = model(images)\n",
    "        loss = criterion(outputs, labels)\n",
    "        \n",
    "        # Backward and optimize\n",
    "        optimizer.zero_grad()\n",
    "        loss.backward()\n",
    "        optimizer.step()\n",
    "    \n",
    "    if (epoch+1) % 10 == 0:\n",
    "        print ('Epoch [{}/{}], Loss: {:.4f}' \n",
    "               .format(epoch+1, num_epochs, loss.item()))\n",
    "    \n",
    "    "
   ]
  },
  {
   "cell_type": "code",
   "execution_count": null,
   "id": "2c6dc722",
   "metadata": {},
   "outputs": [
    {
     "name": "stdout",
     "output_type": "stream",
     "text": [
      "Accuracy of the model on the train images: 95.4250295159386 %\n"
     ]
    }
   ],
   "source": [
    "# calculate accuracy\n",
    "\n",
    "model.eval()\n",
    "\n",
    "with torch.no_grad():\n",
    "    correct = 0\n",
    "    total = 0\n",
    "    for images, labels in train_loader:\n",
    "        images = images.to(device)\n",
    "        labels = labels.to(device)\n",
    "        outputs = model(images)\n",
    "        _, predicted = torch.max(outputs.data, 1)\n",
    "        total += labels.size(0)\n",
    "        correct += (predicted == labels).sum().item()\n",
    "\n",
    "    print('Accuracy of the model on the train images: {} %'.format(100 * correct / total))"
   ]
  },
  {
   "cell_type": "code",
   "execution_count": null,
   "id": "fed61be6",
   "metadata": {},
   "outputs": [
    {
     "name": "stdout",
     "output_type": "stream",
     "text": [
      "Model saved to sp_model.pth\n"
     ]
    }
   ],
   "source": [
    "# save the model\n",
    "torch.save(model.state_dict(), 'sp_model.pth')\n",
    "print('Model saved to sp_model.pth')"
   ]
  }
 ],
 "metadata": {
  "kernelspec": {
   "display_name": "Python 3",
   "language": "python",
   "name": "python3"
  },
  "language_info": {
   "codemirror_mode": {
    "name": "ipython",
    "version": 3
   },
   "file_extension": ".py",
   "mimetype": "text/x-python",
   "name": "python",
   "nbconvert_exporter": "python",
   "pygments_lexer": "ipython3",
   "version": "3.12.2"
  }
 },
 "nbformat": 4,
 "nbformat_minor": 5
}
